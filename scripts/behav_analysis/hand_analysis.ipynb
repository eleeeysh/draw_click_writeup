{
 "cells": [
  {
   "cell_type": "code",
   "execution_count": 1,
   "metadata": {},
   "outputs": [],
   "source": [
    "%load_ext autoreload\n",
    "%autoreload 2"
   ]
  },
  {
   "cell_type": "code",
   "execution_count": 2,
   "metadata": {},
   "outputs": [],
   "source": [
    "import pandas as pd\n",
    "import numpy as np\n",
    "import matplotlib.pyplot as plt\n",
    "import glob\n",
    "import os"
   ]
  },
  {
   "cell_type": "code",
   "execution_count": 3,
   "metadata": {},
   "outputs": [],
   "source": [
    "import sys\n",
    "\n",
    "def get_n_dir_up(path, n):\n",
    "    for _ in range(n):\n",
    "        path = os.path.dirname(path)\n",
    "    return path\n",
    "\n",
    "CUR_PATH= os.path.abspath(\"__file__\")\n",
    "sys.path.append(os.path.join(get_n_dir_up(CUR_PATH, 2)))"
   ]
  },
  {
   "cell_type": "code",
   "execution_count": 4,
   "metadata": {},
   "outputs": [],
   "source": [
    "PLOTS_FOLDER = os.path.join(\n",
    "    get_n_dir_up(CUR_PATH, 3), 'results', 'images', 'behavior', 'hand')"
   ]
  },
  {
   "cell_type": "code",
   "execution_count": 5,
   "metadata": {},
   "outputs": [],
   "source": [
    "import json\n",
    "\n",
    "DEFAULT_DATA_FOLDER = os.path.join(\n",
    "    get_n_dir_up(CUR_PATH, 3), 'data')\n",
    "with open(os.path.join(DEFAULT_DATA_FOLDER, 'QA.json')) as f:\n",
    "    qa_records = json.load(f)\n",
    "\n",
    "invalid_subjs = qa_records['invalid']"
   ]
  },
  {
   "cell_type": "code",
   "execution_count": 12,
   "metadata": {},
   "outputs": [],
   "source": [
    "DEFAULT_FEATURE_FOLDER = os.path.join(\n",
    "    get_n_dir_up(CUR_PATH, 2), 'gaze_analysis', 'features')\n",
    "all_subjs = os.listdir(DEFAULT_FEATURE_FOLDER)\n",
    "all_subjs = [subj for subj in all_subjs if subj.isdigit()]\n",
    "all_subjs = [subj for subj in all_subjs if int(subj) not in invalid_subjs]"
   ]
  },
  {
   "cell_type": "code",
   "execution_count": 6,
   "metadata": {},
   "outputs": [],
   "source": [
    "MOUSE_DATA_FOLDER = os.path.join(\n",
    "    get_n_dir_up(CUR_PATH, 3), 'data', 'mouse', 'compressed')"
   ]
  },
  {
   "cell_type": "markdown",
   "metadata": {},
   "source": [
    "### Firstly, get the cleaned mouse data"
   ]
  },
  {
   "cell_type": "code",
   "execution_count": 7,
   "metadata": {},
   "outputs": [],
   "source": [
    "MOUSE_CLEANED_DATA_FOLDER = os.path.join(\n",
    "    get_n_dir_up(CUR_PATH, 3), 'data', 'mouse', 'cleaned')"
   ]
  },
  {
   "cell_type": "code",
   "execution_count": 8,
   "metadata": {},
   "outputs": [],
   "source": [
    "sys.path.append(os.path.abspath(os.path.join(os.getcwd(), \"..\")))"
   ]
  },
  {
   "cell_type": "code",
   "execution_count": 16,
   "metadata": {},
   "outputs": [],
   "source": [
    "from tqdm import tqdm\n",
    "\n",
    "from utils.mouse_motion import (\n",
    "    PHASE_OFFSETS, aggregate_stroke_events, stroke_detected_to_dicts\n",
    ")\n",
    "\n",
    "def save_all_cleaned_motions():\n",
    "    for subj in tqdm(all_subjs):\n",
    "        subj_f = f'{subj}.npz'\n",
    "        subj_src_path = os.path.join(MOUSE_DATA_FOLDER, subj_f)\n",
    "        subj_des_path = os.path.join(MOUSE_CLEANED_DATA_FOLDER, subj_f)\n",
    "        if not os.path.exists(subj_des_path):\n",
    "            subj_source_data = np.load(subj_src_path)\n",
    "            strokes = aggregate_stroke_events(subj_source_data, PHASE_OFFSETS)\n",
    "            stroke_dicts = stroke_detected_to_dicts(strokes)\n",
    "            np.savez(subj_des_path, **stroke_dicts)"
   ]
  },
  {
   "cell_type": "code",
   "execution_count": 19,
   "metadata": {},
   "outputs": [
    {
     "name": "stderr",
     "output_type": "stream",
     "text": [
      "100%|██████████| 33/33 [00:00<00:00, 2980.45it/s]\n"
     ]
    }
   ],
   "source": [
    "save_all_cleaned_motions()"
   ]
  },
  {
   "cell_type": "markdown",
   "metadata": {},
   "source": [
    "## load pair-up behavior and motion data"
   ]
  },
  {
   "cell_type": "code",
   "execution_count": null,
   "metadata": {},
   "outputs": [],
   "source": []
  }
 ],
 "metadata": {
  "kernelspec": {
   "display_name": "eyetracking",
   "language": "python",
   "name": "python3"
  },
  "language_info": {
   "codemirror_mode": {
    "name": "ipython",
    "version": 3
   },
   "file_extension": ".py",
   "mimetype": "text/x-python",
   "name": "python",
   "nbconvert_exporter": "python",
   "pygments_lexer": "ipython3",
   "version": "3.12.7"
  }
 },
 "nbformat": 4,
 "nbformat_minor": 2
}
